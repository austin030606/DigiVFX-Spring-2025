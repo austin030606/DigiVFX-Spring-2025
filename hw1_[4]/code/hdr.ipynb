{
 "cells": [
  {
   "cell_type": "code",
   "execution_count": 13,
   "metadata": {},
   "outputs": [],
   "source": [
    "from PIL import Image\n",
    "import numpy as np\n",
    "import os\n",
    "import glob\n",
    "import rawpy\n",
    "import imageio.v3 as iio"
   ]
  },
  {
   "cell_type": "code",
   "execution_count": 57,
   "metadata": {},
   "outputs": [],
   "source": [
    "# load ppm and exposure values using their name from a directory\n",
    "def load_images_and_exposures_from_dir(directory):\n",
    "    image_paths = [os.path.join(directory, f) for f in os.listdir(directory) if f.endswith('.tiff')]\n",
    "    return load_images_and_exposures(image_paths)\n",
    "\n",
    "def turn_images_to_tiff(directory):\n",
    "    image_paths = [os.path.join(directory, f) for f in os.listdir(directory) if f.endswith('.RAF')]\n",
    "    for path in image_paths:\n",
    "        with rawpy.imread(path) as raw:\n",
    "            rgb = raw.postprocess(\n",
    "                gamma=(1,1),             # no gamma correction\n",
    "                no_auto_bright=True,     # no auto exposure\n",
    "                output_bps=16,           # 16-bit output\n",
    "                use_camera_wb=True       # or False, depending on your needs\n",
    "            )\n",
    "            iio.imwrite(path.replace('.RAF', '.tiff'), rgb)\n",
    "            \n",
    "def load_images_and_exposures(image_paths):\n",
    "    images = []\n",
    "    exposures = []\n",
    "    for path in image_paths:\n",
    "        img = Image.open(path)\n",
    "        img_np = np.array(img).astype(np.float32)  # ensure float for calculations\n",
    "        if img_np.max() <= 255: \n",
    "           img_np*= 257\n",
    "        images.append(img_np)\n",
    "        # extract exposure value from filename\n",
    "        exposure = float(path.split('/')[-1].split('.')[0])\n",
    "        exposures.append(1/exposure)\n",
    "    return np.stack(images), np.array(exposures)\n",
    "\n",
    "def weight_function(z, z_min=0, z_max=65535):\n",
    "    return 1.0 - 2.0 * np.abs((z - (z_max / 2)) / z_max)"
   ]
  },
  {
   "cell_type": "code",
   "execution_count": 41,
   "metadata": {},
   "outputs": [],
   "source": [
    "def compute_radiance_map_log(images, exposure_times):\n",
    "    P, H, W, C = images.shape\n",
    "    ln_radiance_map = np.zeros((H, W, C), dtype=np.float32)\n",
    "    weight_sum = np.zeros((H, W, C), dtype=np.float32)\n",
    "\n",
    "    ln_exposure_times = np.log(exposure_times)\n",
    "\n",
    "    for j in range(P):\n",
    "        Z = images[j]  \n",
    "        t_j = ln_exposure_times[j]\n",
    "\n",
    "        Z_safe = np.clip(Z, 1, None)\n",
    "        ln_Z = np.log(Z_safe)\n",
    "        weight = weight_function(Z_safe)\n",
    "\n",
    "        ln_E = ln_Z - t_j\n",
    "\n",
    "        ln_radiance_map += weight * ln_E\n",
    "        weight_sum += weight\n",
    "\n",
    "    weight_sum[weight_sum == 0] = 1.0\n",
    "\n",
    "    ln_radiance_map /= weight_sum\n",
    "    radiance_map = np.exp(ln_radiance_map)\n",
    "    \n",
    "\n",
    "    return radiance_map\n",
    "\n",
    "def tone_map(hdr_image, gamma=2.2, exposure=1e-7):\n",
    "    img_tm = 1.0 - np.exp(-hdr_image * exposure)\n",
    "    img_tm = np.clip(img_tm, 0, 1)\n",
    "    img_tm = img_tm ** (1 / gamma)\n",
    "    return (img_tm * 255).astype(np.uint8)"
   ]
  },
  {
   "cell_type": "code",
   "execution_count": null,
   "metadata": {},
   "outputs": [],
   "source": [
    "# data_path = \"../data/raw/\"\n",
    "# turn_images_to_tiff(data_path)"
   ]
  },
  {
   "cell_type": "code",
   "execution_count": 49,
   "metadata": {},
   "outputs": [],
   "source": [
    "data_path = \"../data/raw/\"\n",
    "images, exposures = load_images_and_exposures_from_dir(data_path)"
   ]
  },
  {
   "cell_type": "code",
   "execution_count": 58,
   "metadata": {},
   "outputs": [
    {
     "data": {
      "text/plain": [
       "array([0.0625    , 0.00097656, 0.00390625, 0.015625  ])"
      ]
     },
     "execution_count": 58,
     "metadata": {},
     "output_type": "execute_result"
    }
   ],
   "source": [
    "exposures"
   ]
  },
  {
   "cell_type": "code",
   "execution_count": 59,
   "metadata": {},
   "outputs": [],
   "source": [
    "radiance_map = compute_radiance_map_log(images, exposures)\n",
    "# radiance_map_norm = radiance_map / np.max(radiance_map)"
   ]
  },
  {
   "cell_type": "code",
   "execution_count": 65,
   "metadata": {},
   "outputs": [],
   "source": [
    "tone_mapped = tone_map(radiance_map, exposure=5e-7)"
   ]
  },
  {
   "cell_type": "code",
   "execution_count": 66,
   "metadata": {},
   "outputs": [],
   "source": [
    "iio.imwrite(\"../data/tone_mapped.jpg\", tone_mapped)"
   ]
  },
  {
   "cell_type": "code",
   "execution_count": 53,
   "metadata": {},
   "outputs": [],
   "source": [
    "radiance_map /= radiance_map.max()\n",
    "OUTPUT_HDR = \"../data/output.hdr\"\n",
    "iio.imwrite(OUTPUT_HDR, radiance_map.astype(np.float32))"
   ]
  },
  {
   "cell_type": "code",
   "execution_count": 29,
   "metadata": {},
   "outputs": [],
   "source": [
    "iio.imwrite(\"tone_mapped.jpg\", tone_mapped)"
   ]
  },
  {
   "cell_type": "code",
   "execution_count": 60,
   "metadata": {},
   "outputs": [
    {
     "name": "stdout",
     "output_type": "stream",
     "text": [
      "Radiance map range: 1.0 44788170.0\n"
     ]
    }
   ],
   "source": [
    "print(\"Radiance map range:\", np.min(radiance_map), np.max(radiance_map))\n"
   ]
  }
 ],
 "metadata": {
  "kernelspec": {
   "display_name": "web",
   "language": "python",
   "name": "python3"
  },
  "language_info": {
   "codemirror_mode": {
    "name": "ipython",
    "version": 3
   },
   "file_extension": ".py",
   "mimetype": "text/x-python",
   "name": "python",
   "nbconvert_exporter": "python",
   "pygments_lexer": "ipython3",
   "version": "3.11.8"
  }
 },
 "nbformat": 4,
 "nbformat_minor": 2
}
