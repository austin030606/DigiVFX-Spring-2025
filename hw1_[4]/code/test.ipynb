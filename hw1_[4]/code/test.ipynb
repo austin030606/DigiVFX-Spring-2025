{
 "cells": [
  {
   "cell_type": "code",
   "execution_count": 4,
   "metadata": {},
   "outputs": [],
   "source": [
    "import cv2\n",
    "import numpy as np\n",
    "import glob\n",
    "import os\n",
    "from PIL import Image\n",
    "\n",
    "\n",
    "def load_rgb_images(path):\n",
    "    image_paths = [\n",
    "        os.path.join(path, f)\n",
    "        for f in os.listdir(path) \n",
    "        if f.endswith('.tiff')\n",
    "    ]\n",
    "    exposures = []\n",
    "    images = []\n",
    "    for p in sorted(image_paths):\n",
    "        img = Image.open(p).convert('RGB')\n",
    "        img_np = np.array(img).astype(np.float32)\n",
    "        images.append(img_np)\n",
    "        # If the filename is \"0.1.tiff\", then exposure_time = 0.1\n",
    "        filename = os.path.splitext(os.path.basename(p))[0]\n",
    "        exposure_time = 1/ float(filename)\n",
    "        exposures.append(exposure_time)\n",
    "    images = np.stack(images, axis=0)  # shape (P, H, W, 3)\n",
    "    exposures = np.array(exposures)    # shape (P,)\n",
    "    return images, exposures\n"
   ]
  },
  {
   "cell_type": "code",
   "execution_count": 6,
   "metadata": {},
   "outputs": [
    {
     "name": "stderr",
     "output_type": "stream",
     "text": [
      "/tmp/ipykernel_1712453/1570459403.py:23: RuntimeWarning: invalid value encountered in cast\n",
      "  ldr_8bit = np.clip(ldr_tonemapped * 255, 0, 255).astype('uint8')\n"
     ]
    },
    {
     "data": {
      "text/plain": [
       "True"
      ]
     },
     "execution_count": 6,
     "metadata": {},
     "output_type": "execute_result"
    }
   ],
   "source": [
    "data_path = \"../data/raw/\"\n",
    "output_path = \"../data/output/robertson/\"\n",
    "# 1. Load images\n",
    "image_files = sorted(glob.glob(\"../data/raw/*.tiff\"))\n",
    "ldr_images = [cv2.imread(img).astype(np.uint8) for img in image_files]\n",
    "\n",
    "# 2. Specify exposure times (in seconds, float32)\n",
    "exposure_times = np.array([1/30.0, 0.25, 2.5, 15.0], dtype=np.float32)  # Replace with your real values\n",
    "\n",
    "# 3. Calibrate camera response using Robertson method\n",
    "calibrate = cv2.createCalibrateRobertson()\n",
    "response = calibrate.process(ldr_images, exposure_times)\n",
    "\n",
    "# 4. Merge images into HDR using the same method (Robertson)\n",
    "merge = cv2.createMergeRobertson()\n",
    "hdr = merge.process(ldr_images, exposure_times, response)\n",
    "\n",
    "# 5. Tonemap for visualization (e.g., using Reinhard tonemapping)\n",
    "tonemap = cv2.createTonemapReinhard(gamma=1.5)\n",
    "ldr_tonemapped = tonemap.process(hdr)\n",
    "\n",
    "# 6. Convert to 8-bit and save\n",
    "ldr_8bit = np.clip(ldr_tonemapped * 255, 0, 255).astype('uint8')\n",
    "cv2.imwrite(\"ldr_tonemapped.jpg\", ldr_8bit)\n"
   ]
  }
 ],
 "metadata": {
  "kernelspec": {
   "display_name": "web",
   "language": "python",
   "name": "python3"
  },
  "language_info": {
   "codemirror_mode": {
    "name": "ipython",
    "version": 3
   },
   "file_extension": ".py",
   "mimetype": "text/x-python",
   "name": "python",
   "nbconvert_exporter": "python",
   "pygments_lexer": "ipython3",
   "version": "3.11.8"
  }
 },
 "nbformat": 4,
 "nbformat_minor": 2
}
